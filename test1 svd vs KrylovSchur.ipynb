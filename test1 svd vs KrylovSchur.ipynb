{
 "cells": [
  {
   "cell_type": "code",
   "execution_count": 13,
   "source": [
    "from tSVD import *\r\n",
    "import numpy as np"
   ],
   "outputs": [],
   "metadata": {}
  },
  {
   "cell_type": "code",
   "execution_count": 14,
   "source": [
    "l=1000\r\n",
    "s=100\r\n",
    "\r\n",
    "A=np.random.rand(l,s)\r\n",
    "\r\n",
    "k=30\r\n",
    "m=60\r\n",
    "\r\n",
    "maxIt=150\r\n",
    "tol=2.0000e-16\r\n"
   ],
   "outputs": [],
   "metadata": {}
  },
  {
   "cell_type": "code",
   "execution_count": 15,
   "source": [
    "#scipy SVD\r\n",
    "u1,s1,v1=scipy_svd(A,k)\r\n",
    "Atilda1=np.dot(u1,np.dot(s1,v1))\r\n",
    "np.linalg.norm(Atilda1-A)\r\n"
   ],
   "outputs": [
    {
     "output_type": "execute_result",
     "data": {
      "text/plain": [
       "69.84275665990646"
      ]
     },
     "metadata": {},
     "execution_count": 15
    }
   ],
   "metadata": {}
  },
  {
   "cell_type": "code",
   "execution_count": 16,
   "source": [
    "#torch\r\n",
    "u3,s3,v3= torch.svd_lowrank(torch.tensor(A), q=4)\r\n",
    "Atilda3=np.dot(u3,np.dot(np.diag(s3),v3.T))\r\n",
    "np.linalg.norm(Atilda3-A)\r\n"
   ],
   "outputs": [
    {
     "output_type": "execute_result",
     "data": {
      "text/plain": [
       "88.66403362756854"
      ]
     },
     "metadata": {},
     "execution_count": 16
    }
   ],
   "metadata": {}
  },
  {
   "cell_type": "code",
   "execution_count": 17,
   "source": [
    "#Krylov Schur SVD\r\n",
    "u2,s2,v2=our_svd(A,k,m, maxIt,tol)\r\n",
    "Atilda2=np.dot(u2,np.dot(s2,v2.T))\r\n",
    "np.linalg.norm(Atilda2-A)"
   ],
   "outputs": [
    {
     "output_type": "execute_result",
     "data": {
      "text/plain": [
       "69.53264406319443"
      ]
     },
     "metadata": {},
     "execution_count": 17
    }
   ],
   "metadata": {}
  },
  {
   "cell_type": "markdown",
   "source": [
    "--------------------------------------------------------------------------"
   ],
   "metadata": {}
  },
  {
   "cell_type": "code",
   "execution_count": 21,
   "source": [
    "l=10\r\n",
    "s=7\r\n",
    "\r\n",
    "A=np.random.rand(l,s)\r\n",
    "\r\n",
    "k=4\r\n",
    "m=7\r\n",
    "\r\n",
    "maxIt=150\r\n",
    "tol=2.0000e-16\r\n"
   ],
   "outputs": [],
   "metadata": {}
  },
  {
   "cell_type": "code",
   "execution_count": 22,
   "source": [
    "#Krylov Schur SVD\r\n",
    "u2,s2,v2=our_svd(A,k,m, maxIt,tol)\r\n",
    "Atilda2=np.dot(u2,np.dot(s2,v2.T))\r\n",
    "np.linalg.norm(Atilda2-A)"
   ],
   "outputs": [
    {
     "output_type": "execute_result",
     "data": {
      "text/plain": [
       "1.0082374274063663"
      ]
     },
     "metadata": {},
     "execution_count": 22
    }
   ],
   "metadata": {}
  },
  {
   "cell_type": "code",
   "execution_count": 23,
   "source": [
    "k =6"
   ],
   "outputs": [],
   "metadata": {}
  },
  {
   "cell_type": "code",
   "execution_count": 24,
   "source": [
    "#Krylov Schur SVD\r\n",
    "u2,s2,v2=our_svd(A,k,m, maxIt,tol)\r\n",
    "Atilda2=np.dot(u2,np.dot(s2,v2.T))\r\n",
    "np.linalg.norm(Atilda2-A)"
   ],
   "outputs": [
    {
     "output_type": "stream",
     "name": "stderr",
     "text": [
      "f:\\Tarbiat modares\\-------------------Tensor\\tsvd with schur krylov\\schur code\\SVD with krylov schur\\report\\tSVD.py:88: RuntimeWarning: divide by zero encountered in true_divide\n",
      "  V=np.dot(B,np.dot(Q,np.diag(1/sigma)))\n"
     ]
    },
    {
     "output_type": "execute_result",
     "data": {
      "text/plain": [
       "nan"
      ]
     },
     "metadata": {},
     "execution_count": 24
    }
   ],
   "metadata": {}
  },
  {
   "cell_type": "code",
   "execution_count": null,
   "source": [],
   "outputs": [],
   "metadata": {}
  }
 ],
 "metadata": {
  "orig_nbformat": 4,
  "language_info": {
   "name": "python",
   "version": "3.7.11",
   "mimetype": "text/x-python",
   "codemirror_mode": {
    "name": "ipython",
    "version": 3
   },
   "pygments_lexer": "ipython3",
   "nbconvert_exporter": "python",
   "file_extension": ".py"
  },
  "kernelspec": {
   "name": "python3",
   "display_name": "Python 3.7.11 64-bit ('tf': conda)"
  },
  "interpreter": {
   "hash": "d4b490f064f659635f7ce233fe9f962f49a5789134c76024fdc1e2f02ce724ed"
  }
 },
 "nbformat": 4,
 "nbformat_minor": 2
}