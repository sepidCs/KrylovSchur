{
 "cells": [
  {
   "cell_type": "code",
   "execution_count": 1,
   "source": [
    "import numpy as np\r\n",
    "from scipy import linalg\r\n",
    "from sklearn.decomposition import TruncatedSVD\r\n",
    "from KrylovSchur import *\r\n",
    "import torch \r\n",
    "from tSVD import *"
   ],
   "outputs": [],
   "metadata": {}
  },
  {
   "cell_type": "code",
   "execution_count": 2,
   "source": [
    "n1,n2,n3=1000,100,10\r\n",
    "\r\n",
    "k=30\r\n",
    "m=60\r\n",
    "\r\n",
    "maxIt=150\r\n",
    "tol=2.0000e-16\r\n",
    "\r\n",
    "A=np.random.rand(n1,n2,n3)\r\n"
   ],
   "outputs": [],
   "metadata": {}
  },
  {
   "cell_type": "code",
   "execution_count": 4,
   "source": [
    "u_1,s_1,v_1=tSVD(A,k)\r\n",
    "Atilda_1=tProduct(u_1,tProduct(s_1,kilmer_transposs(v_1)))\r\n",
    "np.linalg.norm(Atilda_1-A)"
   ],
   "outputs": [
    {
     "output_type": "execute_result",
     "data": {
      "text/plain": [
       "289.79188353103444"
      ]
     },
     "metadata": {},
     "execution_count": 4
    }
   ],
   "metadata": {}
  },
  {
   "cell_type": "code",
   "execution_count": 6,
   "source": [
    "u_2,s_2,v_2=our_tSVD(A,k,m, maxIt,tol)\r\n",
    "Atilda_2=tProduct(u_2,tProduct(s_2,kilmer_transposs(v_2)))\r\n",
    "np.linalg.norm(Atilda_2-A)"
   ],
   "outputs": [
    {
     "output_type": "execute_result",
     "data": {
      "text/plain": [
       "353.6268926945854"
      ]
     },
     "metadata": {},
     "execution_count": 6
    }
   ],
   "metadata": {}
  },
  {
   "cell_type": "code",
   "execution_count": null,
   "source": [
    "# %%timeit\r\n",
    "# #Tsvd\r\n",
    "# u_1,s_1,v_1=tSVD(A,k)"
   ],
   "outputs": [],
   "metadata": {}
  },
  {
   "cell_type": "code",
   "execution_count": null,
   "source": [
    "# %%timeit\r\n",
    "# #Krylov Schur t-SVD\r\n",
    "# u_2,s_2,v_2=our_tSVD(A,k,m, maxIt,tol)"
   ],
   "outputs": [],
   "metadata": {}
  }
 ],
 "metadata": {
  "orig_nbformat": 4,
  "language_info": {
   "name": "python",
   "version": "3.7.11",
   "mimetype": "text/x-python",
   "codemirror_mode": {
    "name": "ipython",
    "version": 3
   },
   "pygments_lexer": "ipython3",
   "nbconvert_exporter": "python",
   "file_extension": ".py"
  },
  "kernelspec": {
   "name": "python3",
   "display_name": "Python 3.7.11 64-bit ('tf': conda)"
  },
  "interpreter": {
   "hash": "d4b490f064f659635f7ce233fe9f962f49a5789134c76024fdc1e2f02ce724ed"
  }
 },
 "nbformat": 4,
 "nbformat_minor": 2
}